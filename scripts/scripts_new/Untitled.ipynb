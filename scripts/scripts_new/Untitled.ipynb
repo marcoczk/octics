{
 "cells": [
  {
   "cell_type": "code",
   "execution_count": 22,
   "metadata": {},
   "outputs": [
    {
     "data": {
      "text/plain": [
       "[\n",
       "(1, 0, 0, 17, 0, 17, -18, -1),\n",
       "(0, 1, 0, 17, -1, 16, -17, -1),\n",
       "(0, 0, 1, 1, 0, 0, -1, 0),\n",
       "(0, 0, 0, 18, -1, 17, -18, -1)\n",
       "]"
      ]
     },
     "execution_count": 22,
     "metadata": {},
     "output_type": "execute_result"
    }
   ],
   "source": [
    "var(\"A,B\")\n",
    "m = Matrix([[0,0,0,1],[1,0,0,0],[0,1,0,0],[0,0,1,0],[0,0,1,-1],[1,1,0,0],[0,1,1,0],[17,-1,-1,1]])\n",
    "#m = Matrix([[0,0,0,1],[1,0,0,0],[0,1,0,0],[0,0,1,0]])\n",
    "#m = m.transpose()\n",
    "k = kernel(m)\n",
    "k.basis()"
   ]
  }
 ],
 "metadata": {
  "kernelspec": {
   "display_name": "SageMath 9.3",
   "language": "sage",
   "name": "sagemath"
  },
  "language_info": {
   "codemirror_mode": {
    "name": "ipython",
    "version": 3
   },
   "file_extension": ".py",
   "mimetype": "text/x-python",
   "name": "python",
   "nbconvert_exporter": "python",
   "pygments_lexer": "ipython3",
   "version": "3.7.10"
  }
 },
 "nbformat": 4,
 "nbformat_minor": 4
}
